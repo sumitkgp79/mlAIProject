{
 "cells": [
  {
   "cell_type": "code",
   "execution_count": 1,
   "metadata": {},
   "outputs": [],
   "source": [
    "import numpy as np \n",
    "import pandas as pd\n",
    "from sklearn.model_selection import train_test_split\n",
    "from sklearn.metrics import confusion_matrix,classification_report\n",
    "import seaborn as sns\n",
    "import pdb\n",
    "import json"
   ]
  },
  {
   "cell_type": "code",
   "execution_count": 2,
   "metadata": {},
   "outputs": [
    {
     "data": {
      "text/html": [
       "<div>\n",
       "<style scoped>\n",
       "    .dataframe tbody tr th:only-of-type {\n",
       "        vertical-align: middle;\n",
       "    }\n",
       "\n",
       "    .dataframe tbody tr th {\n",
       "        vertical-align: top;\n",
       "    }\n",
       "\n",
       "    .dataframe thead th {\n",
       "        text-align: right;\n",
       "    }\n",
       "</style>\n",
       "<table border=\"1\" class=\"dataframe\">\n",
       "  <thead>\n",
       "    <tr style=\"text-align: right;\">\n",
       "      <th></th>\n",
       "      <th>PostId</th>\n",
       "      <th>PostCreationDate</th>\n",
       "      <th>OwnerUserId</th>\n",
       "      <th>OwnerCreationDate</th>\n",
       "      <th>ReputationAtPostCreation</th>\n",
       "      <th>OwnerUndeletedAnswerCountAtPostTime</th>\n",
       "      <th>Title</th>\n",
       "      <th>BodyMarkdown</th>\n",
       "      <th>Tag1</th>\n",
       "      <th>Tag2</th>\n",
       "      <th>Tag3</th>\n",
       "      <th>Tag4</th>\n",
       "      <th>Tag5</th>\n",
       "      <th>PostClosedDate</th>\n",
       "      <th>OpenStatus</th>\n",
       "    </tr>\n",
       "  </thead>\n",
       "  <tbody>\n",
       "    <tr>\n",
       "      <th>140267</th>\n",
       "      <td>2982729</td>\n",
       "      <td>06/06/2010 01:03:41</td>\n",
       "      <td>8303</td>\n",
       "      <td>09/15/2008 15:40:08</td>\n",
       "      <td>520</td>\n",
       "      <td>34</td>\n",
       "      <td>Is it possible to implement bitwise operators ...</td>\n",
       "      <td>I am facing a rather peculiar problem. I am wo...</td>\n",
       "      <td>bitwise-operators</td>\n",
       "      <td>discrete-mathematics</td>\n",
       "      <td>compiler-optimization</td>\n",
       "      <td>NaN</td>\n",
       "      <td>NaN</td>\n",
       "      <td>NaN</td>\n",
       "      <td>open</td>\n",
       "    </tr>\n",
       "    <tr>\n",
       "      <th>140268</th>\n",
       "      <td>8809105</td>\n",
       "      <td>01/10/2012 19:13:53</td>\n",
       "      <td>1130251</td>\n",
       "      <td>01/04/2012 15:31:10</td>\n",
       "      <td>1</td>\n",
       "      <td>0</td>\n",
       "      <td>Ruby on Rails: MySql Gem does not work: uninit...</td>\n",
       "      <td>I have the following installed:\\r\\nMac Os 10.7...</td>\n",
       "      <td>mysql</td>\n",
       "      <td>ruby-on-rails</td>\n",
       "      <td>gem</td>\n",
       "      <td>osx-lion</td>\n",
       "      <td>NaN</td>\n",
       "      <td>NaN</td>\n",
       "      <td>open</td>\n",
       "    </tr>\n",
       "    <tr>\n",
       "      <th>140269</th>\n",
       "      <td>10674791</td>\n",
       "      <td>05/20/2012 15:36:31</td>\n",
       "      <td>1388595</td>\n",
       "      <td>05/11/2012 04:43:47</td>\n",
       "      <td>4</td>\n",
       "      <td>0</td>\n",
       "      <td>deleting image from image folder</td>\n",
       "      <td>I am working with an asp.net application.I wan...</td>\n",
       "      <td>asp.net</td>\n",
       "      <td>NaN</td>\n",
       "      <td>NaN</td>\n",
       "      <td>NaN</td>\n",
       "      <td>NaN</td>\n",
       "      <td>05/21/2012 21:21:27</td>\n",
       "      <td>not a real question</td>\n",
       "    </tr>\n",
       "    <tr>\n",
       "      <th>140270</th>\n",
       "      <td>3997045</td>\n",
       "      <td>10/22/2010 13:04:30</td>\n",
       "      <td>484232</td>\n",
       "      <td>10/22/2010 13:04:30</td>\n",
       "      <td>1</td>\n",
       "      <td>0</td>\n",
       "      <td>Need help making HTML's</td>\n",
       "      <td>Hi to all the gurus out there.\\r\\n\\r\\nAnybody ...</td>\n",
       "      <td>html</td>\n",
       "      <td>copy</td>\n",
       "      <td>remove</td>\n",
       "      <td>move</td>\n",
       "      <td>NaN</td>\n",
       "      <td>10/22/2010 13:10:28</td>\n",
       "      <td>not a real question</td>\n",
       "    </tr>\n",
       "    <tr>\n",
       "      <th>140271</th>\n",
       "      <td>11570849</td>\n",
       "      <td>07/19/2012 23:36:57</td>\n",
       "      <td>1539253</td>\n",
       "      <td>07/19/2012 22:17:04</td>\n",
       "      <td>3</td>\n",
       "      <td>1</td>\n",
       "      <td>How dangerous is it to output certain content ...</td>\n",
       "      <td>Following on from a question I asked about esc...</td>\n",
       "      <td>php</td>\n",
       "      <td>content-management-system</td>\n",
       "      <td>NaN</td>\n",
       "      <td>NaN</td>\n",
       "      <td>NaN</td>\n",
       "      <td>NaN</td>\n",
       "      <td>open</td>\n",
       "    </tr>\n",
       "  </tbody>\n",
       "</table>\n",
       "</div>"
      ],
      "text/plain": [
       "          PostId     PostCreationDate  OwnerUserId    OwnerCreationDate  \\\n",
       "140267   2982729  06/06/2010 01:03:41         8303  09/15/2008 15:40:08   \n",
       "140268   8809105  01/10/2012 19:13:53      1130251  01/04/2012 15:31:10   \n",
       "140269  10674791  05/20/2012 15:36:31      1388595  05/11/2012 04:43:47   \n",
       "140270   3997045  10/22/2010 13:04:30       484232  10/22/2010 13:04:30   \n",
       "140271  11570849  07/19/2012 23:36:57      1539253  07/19/2012 22:17:04   \n",
       "\n",
       "        ReputationAtPostCreation  OwnerUndeletedAnswerCountAtPostTime  \\\n",
       "140267                       520                                   34   \n",
       "140268                         1                                    0   \n",
       "140269                         4                                    0   \n",
       "140270                         1                                    0   \n",
       "140271                         3                                    1   \n",
       "\n",
       "                                                    Title  \\\n",
       "140267  Is it possible to implement bitwise operators ...   \n",
       "140268  Ruby on Rails: MySql Gem does not work: uninit...   \n",
       "140269                   deleting image from image folder   \n",
       "140270                            Need help making HTML's   \n",
       "140271  How dangerous is it to output certain content ...   \n",
       "\n",
       "                                             BodyMarkdown               Tag1  \\\n",
       "140267  I am facing a rather peculiar problem. I am wo...  bitwise-operators   \n",
       "140268  I have the following installed:\\r\\nMac Os 10.7...              mysql   \n",
       "140269  I am working with an asp.net application.I wan...            asp.net   \n",
       "140270  Hi to all the gurus out there.\\r\\n\\r\\nAnybody ...               html   \n",
       "140271  Following on from a question I asked about esc...                php   \n",
       "\n",
       "                             Tag2                   Tag3      Tag4 Tag5  \\\n",
       "140267       discrete-mathematics  compiler-optimization       NaN  NaN   \n",
       "140268              ruby-on-rails                    gem  osx-lion  NaN   \n",
       "140269                        NaN                    NaN       NaN  NaN   \n",
       "140270                       copy                 remove      move  NaN   \n",
       "140271  content-management-system                    NaN       NaN  NaN   \n",
       "\n",
       "             PostClosedDate           OpenStatus  \n",
       "140267                  NaN                 open  \n",
       "140268                  NaN                 open  \n",
       "140269  05/21/2012 21:21:27  not a real question  \n",
       "140270  10/22/2010 13:10:28  not a real question  \n",
       "140271                  NaN                 open  "
      ]
     },
     "execution_count": 2,
     "metadata": {},
     "output_type": "execute_result"
    }
   ],
   "source": [
    "dfTrain=pd.read_csv('/Users/sumit/Downloads/testWork/train-sample.csv')\n",
    "dfTrain.tail()"
   ]
  },
  {
   "cell_type": "code",
   "execution_count": 6,
   "metadata": {},
   "outputs": [],
   "source": [
    "#splitting the data into train and test with random split equal to true\n",
    "dfTrain,dfTest=train_test_split(dfTrain,test_size=0.2)"
   ]
  },
  {
   "cell_type": "code",
   "execution_count": 7,
   "metadata": {},
   "outputs": [],
   "source": [
    "trainPostId=dfTrain.PostId\n",
    "testPostId=dfTest.PostId"
   ]
  },
  {
   "cell_type": "code",
   "execution_count": 8,
   "metadata": {},
   "outputs": [],
   "source": [
    "#droping postCreationDate\n",
    "dfTrain.drop(['PostCreationDate'],axis=1,inplace=True)\n",
    "dfTest.drop(['PostCreationDate'],axis=1,inplace=True)"
   ]
  },
  {
   "cell_type": "code",
   "execution_count": 9,
   "metadata": {},
   "outputs": [],
   "source": [
    "#extracting post count as a features\n",
    "dfTrain['PostCount']=[1]*len(dfTrain['PostId'])"
   ]
  },
  {
   "cell_type": "code",
   "execution_count": 10,
   "metadata": {},
   "outputs": [
    {
     "data": {
      "text/html": [
       "<div>\n",
       "<style scoped>\n",
       "    .dataframe tbody tr th:only-of-type {\n",
       "        vertical-align: middle;\n",
       "    }\n",
       "\n",
       "    .dataframe tbody tr th {\n",
       "        vertical-align: top;\n",
       "    }\n",
       "\n",
       "    .dataframe thead th {\n",
       "        text-align: right;\n",
       "    }\n",
       "</style>\n",
       "<table border=\"1\" class=\"dataframe\">\n",
       "  <thead>\n",
       "    <tr style=\"text-align: right;\">\n",
       "      <th>OpenStatus</th>\n",
       "      <th>not a real question</th>\n",
       "      <th>not constructive</th>\n",
       "      <th>off topic</th>\n",
       "      <th>open</th>\n",
       "      <th>too localized</th>\n",
       "    </tr>\n",
       "    <tr>\n",
       "      <th>OwnerUserId</th>\n",
       "      <th></th>\n",
       "      <th></th>\n",
       "      <th></th>\n",
       "      <th></th>\n",
       "      <th></th>\n",
       "    </tr>\n",
       "  </thead>\n",
       "  <tbody>\n",
       "    <tr>\n",
       "      <th>4</th>\n",
       "      <td>1.0</td>\n",
       "      <td>NaN</td>\n",
       "      <td>NaN</td>\n",
       "      <td>NaN</td>\n",
       "      <td>NaN</td>\n",
       "    </tr>\n",
       "    <tr>\n",
       "      <th>5</th>\n",
       "      <td>NaN</td>\n",
       "      <td>NaN</td>\n",
       "      <td>NaN</td>\n",
       "      <td>3.0</td>\n",
       "      <td>NaN</td>\n",
       "    </tr>\n",
       "    <tr>\n",
       "      <th>9</th>\n",
       "      <td>NaN</td>\n",
       "      <td>NaN</td>\n",
       "      <td>NaN</td>\n",
       "      <td>1.0</td>\n",
       "      <td>NaN</td>\n",
       "    </tr>\n",
       "    <tr>\n",
       "      <th>13</th>\n",
       "      <td>NaN</td>\n",
       "      <td>1.0</td>\n",
       "      <td>NaN</td>\n",
       "      <td>NaN</td>\n",
       "      <td>NaN</td>\n",
       "    </tr>\n",
       "    <tr>\n",
       "      <th>17</th>\n",
       "      <td>NaN</td>\n",
       "      <td>3.0</td>\n",
       "      <td>NaN</td>\n",
       "      <td>NaN</td>\n",
       "      <td>NaN</td>\n",
       "    </tr>\n",
       "    <tr>\n",
       "      <th>...</th>\n",
       "      <td>...</td>\n",
       "      <td>...</td>\n",
       "      <td>...</td>\n",
       "      <td>...</td>\n",
       "      <td>...</td>\n",
       "    </tr>\n",
       "    <tr>\n",
       "      <th>1566847</th>\n",
       "      <td>NaN</td>\n",
       "      <td>NaN</td>\n",
       "      <td>1.0</td>\n",
       "      <td>NaN</td>\n",
       "      <td>NaN</td>\n",
       "    </tr>\n",
       "    <tr>\n",
       "      <th>1566856</th>\n",
       "      <td>1.0</td>\n",
       "      <td>NaN</td>\n",
       "      <td>NaN</td>\n",
       "      <td>NaN</td>\n",
       "      <td>NaN</td>\n",
       "    </tr>\n",
       "    <tr>\n",
       "      <th>1566884</th>\n",
       "      <td>NaN</td>\n",
       "      <td>NaN</td>\n",
       "      <td>NaN</td>\n",
       "      <td>1.0</td>\n",
       "      <td>NaN</td>\n",
       "    </tr>\n",
       "    <tr>\n",
       "      <th>1567022</th>\n",
       "      <td>NaN</td>\n",
       "      <td>NaN</td>\n",
       "      <td>1.0</td>\n",
       "      <td>NaN</td>\n",
       "      <td>NaN</td>\n",
       "    </tr>\n",
       "    <tr>\n",
       "      <th>1567070</th>\n",
       "      <td>1.0</td>\n",
       "      <td>NaN</td>\n",
       "      <td>NaN</td>\n",
       "      <td>NaN</td>\n",
       "      <td>NaN</td>\n",
       "    </tr>\n",
       "  </tbody>\n",
       "</table>\n",
       "<p>66235 rows × 5 columns</p>\n",
       "</div>"
      ],
      "text/plain": [
       "OpenStatus   not a real question  not constructive  off topic  open  \\\n",
       "OwnerUserId                                                           \n",
       "4                            1.0               NaN        NaN   NaN   \n",
       "5                            NaN               NaN        NaN   3.0   \n",
       "9                            NaN               NaN        NaN   1.0   \n",
       "13                           NaN               1.0        NaN   NaN   \n",
       "17                           NaN               3.0        NaN   NaN   \n",
       "...                          ...               ...        ...   ...   \n",
       "1566847                      NaN               NaN        1.0   NaN   \n",
       "1566856                      1.0               NaN        NaN   NaN   \n",
       "1566884                      NaN               NaN        NaN   1.0   \n",
       "1567022                      NaN               NaN        1.0   NaN   \n",
       "1567070                      1.0               NaN        NaN   NaN   \n",
       "\n",
       "OpenStatus   too localized  \n",
       "OwnerUserId                 \n",
       "4                      NaN  \n",
       "5                      NaN  \n",
       "9                      NaN  \n",
       "13                     NaN  \n",
       "17                     NaN  \n",
       "...                    ...  \n",
       "1566847                NaN  \n",
       "1566856                NaN  \n",
       "1566884                NaN  \n",
       "1567022                NaN  \n",
       "1567070                NaN  \n",
       "\n",
       "[66235 rows x 5 columns]"
      ]
     },
     "execution_count": 10,
     "metadata": {},
     "output_type": "execute_result"
    }
   ],
   "source": [
    "pd.pivot_table(dfTrain,index='OwnerUserId',columns='OpenStatus',values='PostCount',aggfunc='sum')"
   ]
  },
  {
   "cell_type": "code",
   "execution_count": 11,
   "metadata": {},
   "outputs": [
    {
     "data": {
      "text/plain": [
       "39677     24\n",
       "34537     23\n",
       "325418    18\n",
       "185593    17\n",
       "4653      16\n",
       "          ..\n",
       "197364     1\n",
       "983827     1\n",
       "684794     1\n",
       "815132     1\n",
       "237491     1\n",
       "Name: OwnerUserId, Length: 35585, dtype: int64"
      ]
     },
     "execution_count": 11,
     "metadata": {},
     "output_type": "execute_result"
    }
   ],
   "source": [
    "dfTrain.loc[dfTrain['OpenStatus']=='open','OwnerUserId'].value_counts()"
   ]
  },
  {
   "cell_type": "code",
   "execution_count": 12,
   "metadata": {},
   "outputs": [],
   "source": [
    "dfTrain.drop(['OwnerUserId'],axis=1,inplace=True)\n",
    "dfTest.drop(['OwnerUserId'],axis=1,inplace=True)"
   ]
  },
  {
   "cell_type": "code",
   "execution_count": 14,
   "metadata": {},
   "outputs": [],
   "source": [
    "minimum=dfTrain['ReputationAtPostCreation'].min()\n",
    "maximum=dfTrain['ReputationAtPostCreation'].max()"
   ]
  },
  {
   "cell_type": "code",
   "execution_count": 15,
   "metadata": {},
   "outputs": [],
   "source": [
    "dfTrain['ReputationAtPostCreation']=(dfTrain['ReputationAtPostCreation']-minimum)/(maximum-minimum)"
   ]
  },
  {
   "cell_type": "code",
   "execution_count": 16,
   "metadata": {},
   "outputs": [],
   "source": [
    "dfTest['ReputationAtPostCreation']=(dfTest['ReputationAtPostCreation']-minimum)/(maximum-minimum)"
   ]
  },
  {
   "cell_type": "code",
   "execution_count": 17,
   "metadata": {},
   "outputs": [
    {
     "data": {
      "text/plain": [
       "0       41787\n",
       "1        8325\n",
       "2        4761\n",
       "3        3419\n",
       "4        2554\n",
       "        ...  \n",
       "547         1\n",
       "2722        1\n",
       "739         1\n",
       "1059        1\n",
       "416         1\n",
       "Name: OwnerUndeletedAnswerCountAtPostTime, Length: 783, dtype: int64"
      ]
     },
     "execution_count": 17,
     "metadata": {},
     "output_type": "execute_result"
    }
   ],
   "source": [
    "dfTrain.OwnerUndeletedAnswerCountAtPostTime.value_counts()"
   ]
  },
  {
   "cell_type": "code",
   "execution_count": 18,
   "metadata": {},
   "outputs": [],
   "source": [
    "dfTrain.drop(['OwnerUndeletedAnswerCountAtPostTime'],axis=1,inplace=True)\n",
    "dfTest.drop(['OwnerUndeletedAnswerCountAtPostTime'],axis=1,inplace=True)"
   ]
  },
  {
   "cell_type": "code",
   "execution_count": 19,
   "metadata": {},
   "outputs": [],
   "source": [
    "dfTrain.drop(['PostClosedDate'],axis=1,inplace=True)\n",
    "dfTest.drop(['PostClosedDate'],axis=1,inplace=True)"
   ]
  },
  {
   "cell_type": "code",
   "execution_count": 20,
   "metadata": {},
   "outputs": [],
   "source": [
    "#removing nan values\n",
    "dfTrain['Tag1']=dfTrain['Tag1'].replace(np.nan,' ')\n",
    "dfTrain['Tag2']=dfTrain['Tag2'].replace(np.nan,' ')\n",
    "dfTrain['Tag3']=dfTrain['Tag3'].replace(np.nan,' ')\n",
    "dfTrain['Tag4']=dfTrain['Tag4'].replace(np.nan,' ')\n",
    "dfTrain['Tag5']=dfTrain['Tag5'].replace(np.nan,' ')\n",
    "\n",
    "dfTest['Tag1']=dfTest['Tag1'].replace(np.nan,' ')\n",
    "dfTest['Tag2']=dfTest['Tag2'].replace(np.nan,' ')\n",
    "dfTest['Tag3']=dfTest['Tag3'].replace(np.nan,' ')\n",
    "dfTest['Tag4']=dfTest['Tag4'].replace(np.nan,' ')\n",
    "dfTest['Tag5']=dfTest['Tag5'].replace(np.nan,' ')\n",
    "\n"
   ]
  },
  {
   "cell_type": "code",
   "execution_count": 21,
   "metadata": {},
   "outputs": [],
   "source": [
    "dfTrain['Tags']=dfTrain['Tag1']+' '+dfTrain['Tag2']+' '+dfTrain['Tag3']+' '+dfTrain['Tag4']+' '+dfTrain['Tag5']"
   ]
  },
  {
   "cell_type": "code",
   "execution_count": 22,
   "metadata": {},
   "outputs": [],
   "source": [
    "dfTest['Tags']=dfTest['Tag1']+' '+dfTest['Tag2']+' '+dfTest['Tag3']+' '+dfTest['Tag4']+' '+dfTest['Tag5']"
   ]
  },
  {
   "cell_type": "code",
   "execution_count": 23,
   "metadata": {},
   "outputs": [],
   "source": [
    "dfTrain['Tags']=dfTrain['Tags'].str.lower()\n",
    "dfTest['Tags']=dfTest['Tags'].str.lower()\n",
    "\n"
   ]
  },
  {
   "cell_type": "code",
   "execution_count": 24,
   "metadata": {},
   "outputs": [],
   "source": [
    "dfTrain['Tags']=dfTrain['Tags'].apply(lambda x:x.lstrip())\n",
    "dfTrain['Tags']=dfTrain['Tags'].apply(lambda x:x.rstrip())\n"
   ]
  },
  {
   "cell_type": "code",
   "execution_count": 25,
   "metadata": {},
   "outputs": [],
   "source": [
    "dfTest['Tags']=dfTest['Tags'].apply(lambda x:x.lstrip())\n",
    "dfTest['Tags']=dfTest['Tags'].apply(lambda x:x.rstrip())"
   ]
  },
  {
   "cell_type": "code",
   "execution_count": 26,
   "metadata": {},
   "outputs": [],
   "source": [
    "# Dropping excess columns \n",
    "dfTrain.drop(['PostId','OwnerCreationDate','Tag1','Tag2','Tag3','Tag4','Tag5','PostCount'],axis=1,inplace=True)\n",
    "dfTest.drop(['PostId','OwnerCreationDate','Tag1','Tag2','Tag3','Tag4','Tag5'],axis=1,inplace=True)"
   ]
  },
  {
   "cell_type": "code",
   "execution_count": 27,
   "metadata": {},
   "outputs": [],
   "source": [
    "yTrain=dfTrain['OpenStatus']\n",
    "yTest=dfTest['OpenStatus']"
   ]
  },
  {
   "cell_type": "code",
   "execution_count": 28,
   "metadata": {},
   "outputs": [],
   "source": [
    "dfTrain.drop(['ReputationAtPostCreation','OpenStatus'],axis=1,inplace=True)\n",
    "dfTest.drop(['ReputationAtPostCreation','OpenStatus'],axis=1,inplace=True)"
   ]
  },
  {
   "cell_type": "code",
   "execution_count": 29,
   "metadata": {},
   "outputs": [],
   "source": [
    "yTrain=yTrain.map({'not a real question':0,'off topic':2,'open':3,'too localized':4,\n",
    "  'not constructive':1})"
   ]
  },
  {
   "cell_type": "code",
   "execution_count": 30,
   "metadata": {},
   "outputs": [],
   "source": [
    "yTest=yTest.map({'not a real question':0,\n",
    "  'not constructive':1,\n",
    "  'off topic':2,\n",
    "  'open':3,\n",
    "  'too localized':4})"
   ]
  },
  {
   "cell_type": "code",
   "execution_count": 31,
   "metadata": {},
   "outputs": [],
   "source": [
    "dfTrain['Text']=dfTrain['Title']+' '+dfTrain['BodyMarkdown']+' '+dfTrain['Tags']\n",
    "dfTest['Text']=dfTest['Title']+' '+dfTest['BodyMarkdown']+' '+dfTest['Tags']\n",
    "dfTrain.drop(['Title','BodyMarkdown','Tags'],axis=1,inplace=True)\n",
    "dfTest.drop(['Title','BodyMarkdown','Tags'],axis=1,inplace=True)"
   ]
  },
  {
   "cell_type": "code",
   "execution_count": 32,
   "metadata": {},
   "outputs": [],
   "source": [
    "dfTrain.reset_index(inplace=True)\n",
    "dfTest.reset_index(inplace=True)"
   ]
  },
  {
   "cell_type": "code",
   "execution_count": 33,
   "metadata": {},
   "outputs": [],
   "source": [
    "dfTrain.drop(['index'],inplace=True,axis=1)\n",
    "dfTest.drop(['index'],axis=1,inplace=True)\n",
    "\n"
   ]
  },
  {
   "cell_type": "markdown",
   "metadata": {},
   "source": [
    "## CNN Model using Tensorflow  \n"
   ]
  },
  {
   "cell_type": "code",
   "execution_count": 35,
   "metadata": {},
   "outputs": [],
   "source": [
    "from tensorflow.keras.preprocessing.text import Tokenizer\n",
    "maxWords=10000\n",
    "tokenizer=Tokenizer(max_words)\n",
    "tokenizer.fit_on_texts(dfTrain['Text'])\n",
    "sequenceTrain=tokenizer.texts_to_sequences(dfTrain['Text'])\n",
    "sequenceTest=tokenizer.texts_to_sequences(dfTest['Text'])"
   ]
  },
  {
   "cell_type": "code",
   "execution_count": 37,
   "metadata": {},
   "outputs": [
    {
     "name": "stdout",
     "output_type": "stream",
     "text": [
      "Dataset has 298855 number of independent tokens\n"
     ]
    }
   ],
   "source": [
    "word2VecValue = tokenizer.word_index\n",
    "VecValue = len(word2VecValue)\n",
    "print('Dataset has {} number of independent tokens'.format(VecValue))"
   ]
  },
  {
   "cell_type": "code",
   "execution_count": 38,
   "metadata": {},
   "outputs": [
    {
     "data": {
      "text/plain": [
       "(89773, 11314)"
      ]
     },
     "execution_count": 38,
     "metadata": {},
     "output_type": "execute_result"
    }
   ],
   "source": [
    "from tensorflow.keras.preprocessing.sequence import pad_sequences\n",
    "dataTrain=pad_sequences(sequenceTrain)\n",
    "dataTrain.shape"
   ]
  },
  {
   "cell_type": "code",
   "execution_count": 40,
   "metadata": {},
   "outputs": [
    {
     "data": {
      "text/plain": [
       "(22444, 11314)"
      ]
     },
     "execution_count": 40,
     "metadata": {},
     "output_type": "execute_result"
    }
   ],
   "source": [
    "T=dataTrain.shape[1]\n",
    "dataTest=pad_sequences(sequenceTest,maxlen=T)\n",
    "dataTest.shape"
   ]
  },
  {
   "cell_type": "code",
   "execution_count": 43,
   "metadata": {},
   "outputs": [
    {
     "name": "stdout",
     "output_type": "stream",
     "text": [
      "Model: \"model\"\n",
      "_________________________________________________________________\n",
      "Layer (type)                 Output Shape              Param #   \n",
      "=================================================================\n",
      "input_3 (InputLayer)         [(None, 11314)]           0         \n",
      "_________________________________________________________________\n",
      "embedding (Embedding)        (None, 11314, 15)         4482840   \n",
      "_________________________________________________________________\n",
      "conv1d (Conv1D)              (None, 11312, 16)         736       \n",
      "_________________________________________________________________\n",
      "max_pooling1d (MaxPooling1D) (None, 3770, 16)          0         \n",
      "_________________________________________________________________\n",
      "conv1d_1 (Conv1D)            (None, 3768, 32)          1568      \n",
      "_________________________________________________________________\n",
      "max_pooling1d_1 (MaxPooling1 (None, 1256, 32)          0         \n",
      "_________________________________________________________________\n",
      "conv1d_2 (Conv1D)            (None, 1254, 64)          6208      \n",
      "_________________________________________________________________\n",
      "global_max_pooling1d (Global (None, 64)                0         \n",
      "_________________________________________________________________\n",
      "dense (Dense)                (None, 5)                 325       \n",
      "=================================================================\n",
      "Total params: 4,491,677\n",
      "Trainable params: 4,491,677\n",
      "Non-trainable params: 0\n",
      "_________________________________________________________________\n"
     ]
    }
   ],
   "source": [
    "from tensorflow.keras.layers import Input,Conv1D,MaxPooling1D,Dense,GlobalMaxPooling1D,Embedding\n",
    "from tensorflow.keras.models import Model\n",
    "D=15\n",
    "i=Input((T,))\n",
    "x=Embedding(VecValue+1,D)(i)\n",
    "x=Conv1D(16,3,activation='relu')(x)\n",
    "x=MaxPooling1D(3)(x)\n",
    "x=Conv1D(32,3,activation='relu')(x)\n",
    "x=MaxPooling1D(3)(x)\n",
    "x=Conv1D(64,3,activation='relu')(x)\n",
    "x=GlobalMaxPooling1D()(x)\n",
    "x=Dense(5,activation='softmax')(x)\n",
    "model=Model(i,x)\n",
    "model.summary()"
   ]
  },
  {
   "cell_type": "code",
   "execution_count": 44,
   "metadata": {},
   "outputs": [
    {
     "name": "stdout",
     "output_type": "stream",
     "text": [
      "Epoch 1/5\n",
      "898/898 [==============================] - 362s 403ms/step - loss: 1.2162 - accuracy: 0.5351 - val_loss: 0.9680 - val_accuracy: 0.6309\n",
      "Epoch 2/5\n",
      "898/898 [==============================] - 351s 390ms/step - loss: 0.9186 - accuracy: 0.6540 - val_loss: 0.9272 - val_accuracy: 0.6513\n",
      "Epoch 3/5\n",
      "898/898 [==============================] - 353s 393ms/step - loss: 0.8410 - accuracy: 0.6864 - val_loss: 0.9256 - val_accuracy: 0.6517\n",
      "Epoch 4/5\n",
      "898/898 [==============================] - 354s 394ms/step - loss: 0.7852 - accuracy: 0.7099 - val_loss: 0.9404 - val_accuracy: 0.6495\n",
      "Epoch 5/5\n",
      "898/898 [==============================] - 352s 392ms/step - loss: 0.7305 - accuracy: 0.7326 - val_loss: 0.9600 - val_accuracy: 0.6437\n"
     ]
    }
   ],
   "source": [
    "#compiling Model\n",
    "model.compile(loss='sparse_categorical_crossentropy',optimizer='adam',metrics=['accuracy'])\n",
    "sentimentModel = model.fit(dataTrain,yTrain,validation_data=(dataTest,yTest),batch_size=100,epochs=5)"
   ]
  },
  {
   "cell_type": "code",
   "execution_count": 45,
   "metadata": {},
   "outputs": [
    {
     "data": {
      "text/plain": [
       "array([3, 3, 0, ..., 0, 3, 3])"
      ]
     },
     "execution_count": 45,
     "metadata": {},
     "output_type": "execute_result"
    }
   ],
   "source": [
    "model.predict(dataTest)\n",
    "yPred=model.predict(dataTest)\n",
    "yPred_final=np.argmax(yPred,axis=1)\n",
    "yPred_final"
   ]
  },
  {
   "cell_type": "code",
   "execution_count": 47,
   "metadata": {},
   "outputs": [
    {
     "data": {
      "text/plain": [
       "Text(33.0, 0.5, 'Y Pred')"
      ]
     },
     "execution_count": 47,
     "metadata": {},
     "output_type": "execute_result"
    },
    {
     "data": {
      "image/png": "[encoded data removed]",
      "text/plain": [
       "<Figure size 432x288 with 2 Axes>"
      ]
     },
     "metadata": {
      "needs_background": "light"
     },
     "output_type": "display_data"
    }
   ],
   "source": [
    "cnfMatrix = confusion_matrix(yTest,yPred_final)\n",
    "axl = sns.heatmap(cnfMatrix,cmap='Blues',annot=True,fmt=' ')\n",
    "axl.set_title('Confusion Matrix')\n",
    "axl.set_xlabel('Y Test')\n",
    "axl.set_ylabel('Y Pred')"
   ]
  },
  {
   "cell_type": "code",
   "execution_count": 48,
   "metadata": {},
   "outputs": [
    {
     "name": "stdout",
     "output_type": "stream",
     "text": [
      "              precision    recall  f1-score   support\n",
      "\n",
      "           0       0.52      0.54      0.53      4943\n",
      "           1       0.60      0.54      0.57      2529\n",
      "           2       0.56      0.55      0.56      2770\n",
      "           3       0.73      0.79      0.76     11199\n",
      "           4       0.38      0.01      0.02      1003\n",
      "\n",
      "    accuracy                           0.64     22444\n",
      "   macro avg       0.56      0.49      0.49     22444\n",
      "weighted avg       0.63      0.64      0.63     22444\n",
      "\n"
     ]
    },
    {
     "data": {
      "text/html": [
       "<div>\n",
       "<style scoped>\n",
       "    .dataframe tbody tr th:only-of-type {\n",
       "        vertical-align: middle;\n",
       "    }\n",
       "\n",
       "    .dataframe tbody tr th {\n",
       "        vertical-align: top;\n",
       "    }\n",
       "\n",
       "    .dataframe thead th {\n",
       "        text-align: right;\n",
       "    }\n",
       "</style>\n",
       "<table border=\"1\" class=\"dataframe\">\n",
       "  <thead>\n",
       "    <tr style=\"text-align: right;\">\n",
       "      <th></th>\n",
       "      <th>PostId</th>\n",
       "    </tr>\n",
       "  </thead>\n",
       "  <tbody>\n",
       "    <tr>\n",
       "      <th>107678</th>\n",
       "      <td>9749407</td>\n",
       "    </tr>\n",
       "    <tr>\n",
       "      <th>69730</th>\n",
       "      <td>11711594</td>\n",
       "    </tr>\n",
       "    <tr>\n",
       "      <th>70342</th>\n",
       "      <td>5242452</td>\n",
       "    </tr>\n",
       "    <tr>\n",
       "      <th>139621</th>\n",
       "      <td>7288423</td>\n",
       "    </tr>\n",
       "    <tr>\n",
       "      <th>1440</th>\n",
       "      <td>10924397</td>\n",
       "    </tr>\n",
       "  </tbody>\n",
       "</table>\n",
       "</div>"
      ],
      "text/plain": [
       "          PostId\n",
       "107678   9749407\n",
       "69730   11711594\n",
       "70342    5242452\n",
       "139621   7288423\n",
       "1440    10924397"
      ]
     },
     "execution_count": 48,
     "metadata": {},
     "output_type": "execute_result"
    }
   ],
   "source": [
    "print(classification_report(yTest,yPred_final))\n",
    "dfSubmission=pd.DataFrame(testPostId,columns=['PostId'])\n",
    "dfSubmission.head()"
   ]
  },
  {
   "cell_type": "code",
   "execution_count": 49,
   "metadata": {},
   "outputs": [],
   "source": [
    "testPostId.reset_index(drop=True)\n",
    "dfSubmissionV1=pd.DataFrame(yPred,columns=[0,1,2,3,4])"
   ]
  },
  {
   "cell_type": "code",
   "execution_count": 51,
   "metadata": {},
   "outputs": [],
   "source": [
    "dfSubmissionV1['PostId']=list(testPostId)"
   ]
  },
  {
   "cell_type": "code",
   "execution_count": 52,
   "metadata": {},
   "outputs": [
    {
     "data": {
      "text/html": [
       "<div>\n",
       "<style scoped>\n",
       "    .dataframe tbody tr th:only-of-type {\n",
       "        vertical-align: middle;\n",
       "    }\n",
       "\n",
       "    .dataframe tbody tr th {\n",
       "        vertical-align: top;\n",
       "    }\n",
       "\n",
       "    .dataframe thead th {\n",
       "        text-align: right;\n",
       "    }\n",
       "</style>\n",
       "<table border=\"1\" class=\"dataframe\">\n",
       "  <thead>\n",
       "    <tr style=\"text-align: right;\">\n",
       "      <th></th>\n",
       "      <th>PostId</th>\n",
       "      <th>0</th>\n",
       "      <th>1</th>\n",
       "      <th>2</th>\n",
       "      <th>3</th>\n",
       "      <th>4</th>\n",
       "    </tr>\n",
       "  </thead>\n",
       "  <tbody>\n",
       "    <tr>\n",
       "      <th>0</th>\n",
       "      <td>9749407</td>\n",
       "      <td>0.330217</td>\n",
       "      <td>0.011872</td>\n",
       "      <td>0.018027</td>\n",
       "      <td>0.596261</td>\n",
       "      <td>0.043624</td>\n",
       "    </tr>\n",
       "    <tr>\n",
       "      <th>1</th>\n",
       "      <td>11711594</td>\n",
       "      <td>0.394320</td>\n",
       "      <td>0.027873</td>\n",
       "      <td>0.003172</td>\n",
       "      <td>0.528002</td>\n",
       "      <td>0.046633</td>\n",
       "    </tr>\n",
       "    <tr>\n",
       "      <th>2</th>\n",
       "      <td>5242452</td>\n",
       "      <td>0.762372</td>\n",
       "      <td>0.047002</td>\n",
       "      <td>0.041927</td>\n",
       "      <td>0.084351</td>\n",
       "      <td>0.064348</td>\n",
       "    </tr>\n",
       "    <tr>\n",
       "      <th>3</th>\n",
       "      <td>7288423</td>\n",
       "      <td>0.037914</td>\n",
       "      <td>0.002076</td>\n",
       "      <td>0.002885</td>\n",
       "      <td>0.899082</td>\n",
       "      <td>0.058043</td>\n",
       "    </tr>\n",
       "    <tr>\n",
       "      <th>4</th>\n",
       "      <td>10924397</td>\n",
       "      <td>0.103340</td>\n",
       "      <td>0.002809</td>\n",
       "      <td>0.005525</td>\n",
       "      <td>0.843499</td>\n",
       "      <td>0.044827</td>\n",
       "    </tr>\n",
       "    <tr>\n",
       "      <th>...</th>\n",
       "      <td>...</td>\n",
       "      <td>...</td>\n",
       "      <td>...</td>\n",
       "      <td>...</td>\n",
       "      <td>...</td>\n",
       "      <td>...</td>\n",
       "    </tr>\n",
       "    <tr>\n",
       "      <th>22439</th>\n",
       "      <td>4257415</td>\n",
       "      <td>0.010691</td>\n",
       "      <td>0.000594</td>\n",
       "      <td>0.000319</td>\n",
       "      <td>0.973703</td>\n",
       "      <td>0.014693</td>\n",
       "    </tr>\n",
       "    <tr>\n",
       "      <th>22440</th>\n",
       "      <td>11470352</td>\n",
       "      <td>0.161930</td>\n",
       "      <td>0.013623</td>\n",
       "      <td>0.445795</td>\n",
       "      <td>0.312773</td>\n",
       "      <td>0.065879</td>\n",
       "    </tr>\n",
       "    <tr>\n",
       "      <th>22441</th>\n",
       "      <td>8125915</td>\n",
       "      <td>0.607102</td>\n",
       "      <td>0.013347</td>\n",
       "      <td>0.053026</td>\n",
       "      <td>0.237592</td>\n",
       "      <td>0.088933</td>\n",
       "    </tr>\n",
       "    <tr>\n",
       "      <th>22442</th>\n",
       "      <td>7072626</td>\n",
       "      <td>0.006835</td>\n",
       "      <td>0.000126</td>\n",
       "      <td>0.000274</td>\n",
       "      <td>0.972170</td>\n",
       "      <td>0.020595</td>\n",
       "    </tr>\n",
       "    <tr>\n",
       "      <th>22443</th>\n",
       "      <td>5740279</td>\n",
       "      <td>0.360505</td>\n",
       "      <td>0.208289</td>\n",
       "      <td>0.001473</td>\n",
       "      <td>0.403356</td>\n",
       "      <td>0.026377</td>\n",
       "    </tr>\n",
       "  </tbody>\n",
       "</table>\n",
       "<p>22444 rows × 6 columns</p>\n",
       "</div>"
      ],
      "text/plain": [
       "         PostId         0         1         2         3         4\n",
       "0       9749407  0.330217  0.011872  0.018027  0.596261  0.043624\n",
       "1      11711594  0.394320  0.027873  0.003172  0.528002  0.046633\n",
       "2       5242452  0.762372  0.047002  0.041927  0.084351  0.064348\n",
       "3       7288423  0.037914  0.002076  0.002885  0.899082  0.058043\n",
       "4      10924397  0.103340  0.002809  0.005525  0.843499  0.044827\n",
       "...         ...       ...       ...       ...       ...       ...\n",
       "22439   4257415  0.010691  0.000594  0.000319  0.973703  0.014693\n",
       "22440  11470352  0.161930  0.013623  0.445795  0.312773  0.065879\n",
       "22441   8125915  0.607102  0.013347  0.053026  0.237592  0.088933\n",
       "22442   7072626  0.006835  0.000126  0.000274  0.972170  0.020595\n",
       "22443   5740279  0.360505  0.208289  0.001473  0.403356  0.026377\n",
       "\n",
       "[22444 rows x 6 columns]"
      ]
     },
     "execution_count": 52,
     "metadata": {},
     "output_type": "execute_result"
    }
   ],
   "source": [
    "columns=['PostId',0,1,2,3,4]\n",
    "dfSubmissionV1=dfSubmissionV1[columns]\n",
    "dfSubmissionV1"
   ]
  },
  {
   "cell_type": "code",
   "execution_count": 53,
   "metadata": {},
   "outputs": [
    {
     "data": {
      "text/plain": [
       "Index(['PostId', 0, 1, 2, 3, 4, 'Sum'], dtype='object')"
      ]
     },
     "execution_count": 53,
     "metadata": {},
     "output_type": "execute_result"
    }
   ],
   "source": [
    "dfSubmissionV1['Sum']=dfSubmissionV1[0]+dfSubmissionV1[1]+dfSubmissionV1[2]+dfSubmissionV1[3]+dfSubmissionV1[4]\n",
    "dfSubmissionV1.columns"
   ]
  },
  {
   "cell_type": "code",
   "execution_count": null,
   "metadata": {},
   "outputs": [],
   "source": []
  }
 ],
 "metadata": {
  "kernelspec": {
   "display_name": "workEnv",
   "language": "python",
   "name": "workenv"
  },
  "language_info": {
   "codemirror_mode": {
    "name": "ipython",
    "version": 3
   },
   "file_extension": ".py",
   "mimetype": "text/x-python",
   "name": "python",
   "nbconvert_exporter": "python",
   "pygments_lexer": "ipython3",
   "version": "3.7.3"
  }
 },
 "nbformat": 4,
 "nbformat_minor": 4
}
